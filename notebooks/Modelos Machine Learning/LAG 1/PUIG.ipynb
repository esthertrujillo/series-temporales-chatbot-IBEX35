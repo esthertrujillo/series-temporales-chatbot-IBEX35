{
 "cells": [
  {
   "cell_type": "markdown",
   "metadata": {},
   "source": [
    "PUIG"
   ]
  },
  {
   "cell_type": "code",
   "execution_count": 1,
   "metadata": {},
   "outputs": [],
   "source": [
    "import numpy as np\n",
    "import pandas as pd\n",
    "import matplotlib.pyplot as plt"
   ]
  },
  {
   "cell_type": "code",
   "execution_count": 2,
   "metadata": {},
   "outputs": [],
   "source": [
    "import sys\n",
    "import pandas as pd\n",
    "sys.path.append('/Users/luciamenendezfernandez/Desktop/TFM lucia/src/lag1_funciones')\n"
   ]
  },
  {
   "cell_type": "code",
   "execution_count": 8,
   "metadata": {},
   "outputs": [],
   "source": [
    "# --- CONFIGURACIÓN INICIAL ---\n",
    "import sys\n",
    "import os\n",
    "\n",
    "from preprocessing import cargar_datos\n",
    "from features import crear_variables_lag_y_temporales\n",
    "from model_training import dividir_train_test, definir_modelos, entrenar_y_evaluar_modelos\n",
    "from visualization import graficar_predicciones\n",
    "\n",
    "# --- PARÁMETROS ---\n",
    "empresa = \"PUIG\"\n",
    "ruta_datos = \"/Users/luciamenendezfernandez/Desktop/TFM lucia/data/IBEX35_cotizaciones_20_Limpio.csv\"\n",
    "\n",
    "# --- 1. Cargar y preparar los datos ---\n",
    "df_puig = cargar_datos(ruta_datos, empresa)"
   ]
  },
  {
   "cell_type": "code",
   "execution_count": 9,
   "metadata": {},
   "outputs": [
    {
     "data": {
      "text/html": [
       "<div>\n",
       "<style scoped>\n",
       "    .dataframe tbody tr th:only-of-type {\n",
       "        vertical-align: middle;\n",
       "    }\n",
       "\n",
       "    .dataframe tbody tr th {\n",
       "        vertical-align: top;\n",
       "    }\n",
       "\n",
       "    .dataframe thead th {\n",
       "        text-align: right;\n",
       "    }\n",
       "</style>\n",
       "<table border=\"1\" class=\"dataframe\">\n",
       "  <thead>\n",
       "    <tr style=\"text-align: right;\">\n",
       "      <th></th>\n",
       "      <th>Precio_cierre</th>\n",
       "    </tr>\n",
       "    <tr>\n",
       "      <th>Fecha</th>\n",
       "      <th></th>\n",
       "    </tr>\n",
       "  </thead>\n",
       "  <tbody>\n",
       "    <tr>\n",
       "      <th>2024-05-03</th>\n",
       "      <td>24.500000</td>\n",
       "    </tr>\n",
       "    <tr>\n",
       "      <th>2024-05-06</th>\n",
       "      <td>25.500000</td>\n",
       "    </tr>\n",
       "    <tr>\n",
       "      <th>2024-05-07</th>\n",
       "      <td>26.360001</td>\n",
       "    </tr>\n",
       "    <tr>\n",
       "      <th>2024-05-08</th>\n",
       "      <td>26.400000</td>\n",
       "    </tr>\n",
       "    <tr>\n",
       "      <th>2024-05-09</th>\n",
       "      <td>25.760000</td>\n",
       "    </tr>\n",
       "    <tr>\n",
       "      <th>...</th>\n",
       "      <td>...</td>\n",
       "    </tr>\n",
       "    <tr>\n",
       "      <th>2025-03-26</th>\n",
       "      <td>16.110001</td>\n",
       "    </tr>\n",
       "    <tr>\n",
       "      <th>2025-03-27</th>\n",
       "      <td>16.275000</td>\n",
       "    </tr>\n",
       "    <tr>\n",
       "      <th>2025-03-28</th>\n",
       "      <td>16.520000</td>\n",
       "    </tr>\n",
       "    <tr>\n",
       "      <th>2025-03-31</th>\n",
       "      <td>15.740000</td>\n",
       "    </tr>\n",
       "    <tr>\n",
       "      <th>2025-04-01</th>\n",
       "      <td>15.950000</td>\n",
       "    </tr>\n",
       "  </tbody>\n",
       "</table>\n",
       "<p>234 rows × 1 columns</p>\n",
       "</div>"
      ],
      "text/plain": [
       "            Precio_cierre\n",
       "Fecha                    \n",
       "2024-05-03      24.500000\n",
       "2024-05-06      25.500000\n",
       "2024-05-07      26.360001\n",
       "2024-05-08      26.400000\n",
       "2024-05-09      25.760000\n",
       "...                   ...\n",
       "2025-03-26      16.110001\n",
       "2025-03-27      16.275000\n",
       "2025-03-28      16.520000\n",
       "2025-03-31      15.740000\n",
       "2025-04-01      15.950000\n",
       "\n",
       "[234 rows x 1 columns]"
      ]
     },
     "execution_count": 9,
     "metadata": {},
     "output_type": "execute_result"
    }
   ],
   "source": [
    "df_puig"
   ]
  },
  {
   "cell_type": "code",
   "execution_count": 10,
   "metadata": {},
   "outputs": [],
   "source": [
    "df_puig = df_puig.reset_index()\n",
    "df_puig['Fecha'] = pd.to_datetime(df_puig['Fecha'], errors='coerce')\n"
   ]
  },
  {
   "cell_type": "code",
   "execution_count": 11,
   "metadata": {},
   "outputs": [],
   "source": [
    "df_puig['Fecha'] = pd.to_datetime(df_puig['Fecha'], errors='coerce')"
   ]
  },
  {
   "cell_type": "code",
   "execution_count": 12,
   "metadata": {},
   "outputs": [],
   "source": [
    "#Seleccionar solo las columnas necesarias y establecer el índice\n",
    "df_puig = df_puig[['Fecha', 'Precio_cierre']].set_index('Fecha')"
   ]
  },
  {
   "cell_type": "code",
   "execution_count": 13,
   "metadata": {},
   "outputs": [],
   "source": [
    "df_puig['Precio_cierre'] = pd.to_numeric(df_puig['Precio_cierre'], errors='coerce')"
   ]
  },
  {
   "cell_type": "code",
   "execution_count": 14,
   "metadata": {},
   "outputs": [
    {
     "data": {
      "text/html": [
       "<div>\n",
       "<style scoped>\n",
       "    .dataframe tbody tr th:only-of-type {\n",
       "        vertical-align: middle;\n",
       "    }\n",
       "\n",
       "    .dataframe tbody tr th {\n",
       "        vertical-align: top;\n",
       "    }\n",
       "\n",
       "    .dataframe thead th {\n",
       "        text-align: right;\n",
       "    }\n",
       "</style>\n",
       "<table border=\"1\" class=\"dataframe\">\n",
       "  <thead>\n",
       "    <tr style=\"text-align: right;\">\n",
       "      <th></th>\n",
       "      <th>Precio_cierre</th>\n",
       "    </tr>\n",
       "    <tr>\n",
       "      <th>Fecha</th>\n",
       "      <th></th>\n",
       "    </tr>\n",
       "  </thead>\n",
       "  <tbody>\n",
       "    <tr>\n",
       "      <th>2024-05-03</th>\n",
       "      <td>24.500000</td>\n",
       "    </tr>\n",
       "    <tr>\n",
       "      <th>2024-05-06</th>\n",
       "      <td>25.500000</td>\n",
       "    </tr>\n",
       "    <tr>\n",
       "      <th>2024-05-07</th>\n",
       "      <td>26.360001</td>\n",
       "    </tr>\n",
       "    <tr>\n",
       "      <th>2024-05-08</th>\n",
       "      <td>26.400000</td>\n",
       "    </tr>\n",
       "    <tr>\n",
       "      <th>2024-05-09</th>\n",
       "      <td>25.760000</td>\n",
       "    </tr>\n",
       "    <tr>\n",
       "      <th>...</th>\n",
       "      <td>...</td>\n",
       "    </tr>\n",
       "    <tr>\n",
       "      <th>2025-03-26</th>\n",
       "      <td>16.110001</td>\n",
       "    </tr>\n",
       "    <tr>\n",
       "      <th>2025-03-27</th>\n",
       "      <td>16.275000</td>\n",
       "    </tr>\n",
       "    <tr>\n",
       "      <th>2025-03-28</th>\n",
       "      <td>16.520000</td>\n",
       "    </tr>\n",
       "    <tr>\n",
       "      <th>2025-03-31</th>\n",
       "      <td>15.740000</td>\n",
       "    </tr>\n",
       "    <tr>\n",
       "      <th>2025-04-01</th>\n",
       "      <td>15.950000</td>\n",
       "    </tr>\n",
       "  </tbody>\n",
       "</table>\n",
       "<p>234 rows × 1 columns</p>\n",
       "</div>"
      ],
      "text/plain": [
       "            Precio_cierre\n",
       "Fecha                    \n",
       "2024-05-03      24.500000\n",
       "2024-05-06      25.500000\n",
       "2024-05-07      26.360001\n",
       "2024-05-08      26.400000\n",
       "2024-05-09      25.760000\n",
       "...                   ...\n",
       "2025-03-26      16.110001\n",
       "2025-03-27      16.275000\n",
       "2025-03-28      16.520000\n",
       "2025-03-31      15.740000\n",
       "2025-04-01      15.950000\n",
       "\n",
       "[234 rows x 1 columns]"
      ]
     },
     "execution_count": 14,
     "metadata": {},
     "output_type": "execute_result"
    }
   ],
   "source": [
    "df_puig"
   ]
  },
  {
   "cell_type": "code",
   "execution_count": 15,
   "metadata": {},
   "outputs": [
    {
     "data": {
      "image/png": "[encoded data removed]",
      "text/plain": [
       "<Figure size 1200x500 with 1 Axes>"
      ]
     },
     "metadata": {},
     "output_type": "display_data"
    }
   ],
   "source": [
    "import matplotlib.pyplot as plt\n",
    "# Graficar la serie temporal\n",
    "plt.figure(figsize=(12, 5))\n",
    "plt.plot(df_puig.index, df_puig['Precio_cierre'], label=\"Precio cierre PUIG\", color='b')\n",
    "plt.title(\"Precio cierre PUIG\")\n",
    "plt.xlabel(\"Fecha\")\n",
    "plt.ylabel(\"PUIG\")\n",
    "plt.legend()\n",
    "plt.grid()\n",
    "plt.show()"
   ]
  },
  {
   "cell_type": "code",
   "execution_count": 16,
   "metadata": {},
   "outputs": [],
   "source": [
    "df_puig['year'] = df_puig.index.year                # Año\n",
    "df_puig['month'] = df_puig.index.month              # Mes\n",
    "df_puig['quarter'] = df_puig.index.quarter          # Trimestre\n",
    "df_puig['day'] = df_puig.index.day                  # Día del mes\n",
    "df_puig['day_of_week'] = df_puig.index.dayofweek    # Día de la semana (0 = Lunes, 6 = Domingo)\n",
    "df_puig['week_of_year'] = df_puig.index.isocalendar().week  # Semana del año"
   ]
  },
  {
   "cell_type": "code",
   "execution_count": 17,
   "metadata": {},
   "outputs": [],
   "source": [
    "df_puig['Precio_cierre_lag1'] = df_puig['Precio_cierre'].shift(1)\n",
    "df_puig['year_lag1'] = df_puig['year'].shift(1)\n",
    "df_puig['month_lag1'] = df_puig['month'].shift(1)\n",
    "df_puig['quarter_lag1'] = df_puig['quarter'].shift(1)\n",
    "df_puig['day_of_week_lag1'] = df_puig['day_of_week'].shift(1)\n",
    "df_puig['week_of_year_lag1'] = df_puig['week_of_year'].shift(1)"
   ]
  },
  {
   "cell_type": "code",
   "execution_count": 18,
   "metadata": {},
   "outputs": [],
   "source": [
    "# Media móvil con ventana de 60 días (2 meses)\n",
    "df_puig['rolling_mean_60'] = df_puig['Precio_cierre'].shift(1).rolling(window=60).mean()\n",
    "# Desviación estándar móvil con ventana de 60 días (2 meses)\n",
    "df_puig['rolling_std_60'] = df_puig['Precio_cierre'].shift(1).rolling(window=60).std()\n",
    "\n",
    "# Media móvil con ventana de 7 días (aproximadamente 1 semana)\n",
    "df_puig['rolling_mean_7'] = df_puig['Precio_cierre'].shift(1).rolling(window=7).mean()\n",
    "# Desviación estándar móvil con ventana de 7 días (aproximadamente 1 semana)\n",
    "df_puig['rolling_std_7'] = df_puig['Precio_cierre'].shift(1).rolling(window=7).std()\n",
    "\n",
    "# Media móvil con ventana de 30 días (aproximadamente 1 mes)\n",
    "df_puig['rolling_mean_30'] = df_puig['Precio_cierre'].shift(1).rolling(window=30).mean()\n",
    "# Desviación estándar móvil con ventana de 30 días (aproximadamente 1 mes)\n",
    "df_puig['rolling_std_30'] = df_puig['Precio_cierre'].shift(1).rolling(window=30).std()\n"
   ]
  },
  {
   "cell_type": "code",
   "execution_count": 19,
   "metadata": {},
   "outputs": [],
   "source": [
    "df_puig = df_puig.dropna()"
   ]
  },
  {
   "cell_type": "code",
   "execution_count": 21,
   "metadata": {},
   "outputs": [
    {
     "name": "stdout",
     "output_type": "stream",
     "text": [
      "Train: 2024-07-26 → 2024-12-31\n",
      "Test : 2025-01-02 → 2025-04-01\n"
     ]
    }
   ],
   "source": [
    " # Definir fecha de corte\n",
    "fecha_test = '2025-01-01'\n",
    "\n",
    "# División\n",
    "train = df_puig[df_puig.index < fecha_test]\n",
    "test = df_puig[df_puig.index >= fecha_test]\n",
    "\n",
    "print(f\"Train: {train.index.min().date()} → {train.index.max().date()}\")\n",
    "print(f\"Test : {test.index.min().date()} → {test.index.max().date()}\")"
   ]
  },
  {
   "cell_type": "code",
   "execution_count": 22,
   "metadata": {},
   "outputs": [],
   "source": [
    "# Separar features (X) y target (y) en train\n",
    "X_train, y_train = train.drop(columns=['Precio_cierre']), train['Precio_cierre']\n",
    "# Separar features (X) y target (y) en test\n",
    "X_test, y_test = test.drop(columns=['Precio_cierre']), test['Precio_cierre']"
   ]
  },
  {
   "cell_type": "code",
   "execution_count": 24,
   "metadata": {},
   "outputs": [],
   "source": [
    "from sklearn.model_selection import GridSearchCV\n",
    "from sklearn.linear_model import LinearRegression\n",
    "from sklearn.tree import DecisionTreeRegressor\n",
    "from sklearn.ensemble import RandomForestRegressor, GradientBoostingRegressor\n",
    "import xgboost as xgb\n",
    "from sklearn.svm import SVR\n",
    "from sklearn.metrics import mean_squared_error\n",
    "import numpy as np\n",
    "\n",
    "# Definir los modelos\n",
    "models = {\n",
    "    'Linear Regression': LinearRegression(),\n",
    "    'Decision Tree': DecisionTreeRegressor(),\n",
    "    'Random Forest': RandomForestRegressor(),\n",
    "    'Gradient Boosting': GradientBoostingRegressor(),\n",
    "    'XGBoost': xgb.XGBRegressor(),\n",
    "    'SVR': SVR()\n",
    "}\n",
    "\n",
    "# Definir los hiperparámetros de cada modelo para GridSearchCV\n",
    "param_grids = {\n",
    "    'Linear Regression': {},\n",
    "    'Decision Tree': {\n",
    "        'max_depth': [5, 10, 20],\n",
    "        'min_samples_split': [2, 5, 10]\n",
    "    },\n",
    "    'Random Forest': {\n",
    "        'n_estimators': [100, 200],\n",
    "        'max_depth': [5, 10, 20],\n",
    "        'min_samples_split': [2, 5, 10]\n",
    "    },\n",
    "    'Gradient Boosting': {\n",
    "        'n_estimators': [100, 200],\n",
    "        'learning_rate': [0.01, 0.05, 0.1],\n",
    "        'max_depth': [3, 5, 7]\n",
    "    },\n",
    "    'XGBoost': {\n",
    "        'n_estimators': [100, 200],\n",
    "        'learning_rate': [0.01, 0.05, 0.1],\n",
    "        'max_depth': [3, 5, 7]\n",
    "    },\n",
    "    'SVR': {\n",
    "        'C': [0.1, 1, 10],\n",
    "        'kernel': ['linear', 'rbf'],\n",
    "        'gamma': ['scale', 'auto']\n",
    "    }\n",
    "}"
   ]
  },
  {
   "cell_type": "code",
   "execution_count": 25,
   "metadata": {},
   "outputs": [
    {
     "name": "stdout",
     "output_type": "stream",
     "text": [
      "Entrenando Linear Regression...\n",
      "Fitting 3 folds for each of 1 candidates, totalling 3 fits\n",
      "Mejor RMSE para Linear Regression: 10.252071289297023\n",
      "RMSE en el conjunto de prueba para Linear Regression: 4.871326408741034\n",
      "Entrenando Decision Tree...\n",
      "Fitting 3 folds for each of 9 candidates, totalling 27 fits\n",
      "Mejor RMSE para Decision Tree: 1.617336344811278\n",
      "RMSE en el conjunto de prueba para Decision Tree: 0.8509924674199348\n",
      "Entrenando Random Forest...\n",
      "Fitting 3 folds for each of 18 candidates, totalling 54 fits\n",
      "Mejor RMSE para Random Forest: 1.71946833951104\n",
      "RMSE en el conjunto de prueba para Random Forest: 0.8860526273310327\n",
      "Entrenando Gradient Boosting...\n",
      "Fitting 3 folds for each of 18 candidates, totalling 54 fits\n",
      "Mejor RMSE para Gradient Boosting: 1.7844433699686046\n",
      "RMSE en el conjunto de prueba para Gradient Boosting: 0.7422119345496849\n",
      "Entrenando XGBoost...\n",
      "Fitting 3 folds for each of 18 candidates, totalling 54 fits\n",
      "Mejor RMSE para XGBoost: 1.7746800716071622\n",
      "RMSE en el conjunto de prueba para XGBoost: 0.7154765455388533\n",
      "Entrenando SVR...\n",
      "Fitting 3 folds for each of 12 candidates, totalling 36 fits\n",
      "Mejor RMSE para SVR: 0.6562041999468743\n",
      "RMSE en el conjunto de prueba para SVR: 1.5884523884984063\n",
      "El mejor modelo es: XGBoost con un RMSE de 0.7154765455388533\n"
     ]
    }
   ],
   "source": [
    "# Función para hacer GridSearch y comparar RMSE\n",
    "def evaluate_models(X_train, y_train, X_test, y_test, models, param_grids):\n",
    "    best_model = None\n",
    "    best_rmse = float('inf')\n",
    "    best_model_name = \"\"\n",
    "\n",
    "    for model_name, model in models.items():\n",
    "        print(f\"Entrenando {model_name}...\")\n",
    "\n",
    "        # Configurar GridSearchCV para cada modelo\n",
    "        grid_search = GridSearchCV(estimator=model,\n",
    "                                   param_grid=param_grids[model_name],\n",
    "                                   scoring='neg_root_mean_squared_error',\n",
    "                                   cv=3, # 3-fold cross-validation\n",
    "                                   verbose=1)\n",
    "\n",
    "        # Entrenar el modelo\n",
    "        grid_search.fit(X_train, y_train)\n",
    "\n",
    "        # Obtener el mejor modelo y su puntuación\n",
    "        best_estimator = grid_search.best_estimator_\n",
    "        best_score = -grid_search.best_score_  # Negativo porque usamos 'neg_root_mean_squared_error'\n",
    "\n",
    "        print(f\"Mejor RMSE para {model_name}: {best_score}\")\n",
    "\n",
    "        # Evaluar en el conjunto de prueba\n",
    "        y_pred = best_estimator.predict(X_test)\n",
    "        rmse = np.sqrt(mean_squared_error(y_test, y_pred))\n",
    "        print(f\"RMSE en el conjunto de prueba para {model_name}: {rmse}\")\n",
    "\n",
    "        # Comparar el mejor RMSE\n",
    "        if rmse < best_rmse:\n",
    "            best_rmse = rmse\n",
    "            best_model = best_estimator\n",
    "            best_model_name = model_name\n",
    "\n",
    "    return best_model_name, best_model, best_rmse\n",
    "\n",
    "# Suponiendo que ya tienes X_train, X_test, y_train, y_test listos\n",
    "best_model_name, best_model, best_rmse = evaluate_models(X_train, y_train, X_test, y_test, models, param_grids)\n",
    "\n",
    "print(f\"El mejor modelo es: {best_model_name} con un RMSE de {best_rmse}\")"
   ]
  }
 ],
 "metadata": {
  "kernelspec": {
   "display_name": "base",
   "language": "python",
   "name": "python3"
  },
  "language_info": {
   "codemirror_mode": {
    "name": "ipython",
    "version": 3
   },
   "file_extension": ".py",
   "mimetype": "text/x-python",
   "name": "python",
   "nbconvert_exporter": "python",
   "pygments_lexer": "ipython3",
   "version": "3.12.7"
  }
 },
 "nbformat": 4,
 "nbformat_minor": 2
}
