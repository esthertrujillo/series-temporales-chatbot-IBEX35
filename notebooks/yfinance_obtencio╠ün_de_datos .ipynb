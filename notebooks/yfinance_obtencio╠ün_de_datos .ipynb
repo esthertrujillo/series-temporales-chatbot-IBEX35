{
 "cells": [
  {
   "cell_type": "code",
   "execution_count": null,
   "metadata": {
    "colab": {
     "base_uri": "https://localhost:8080/"
    },
    "executionInfo": {
     "elapsed": 65340,
     "status": "ok",
     "timestamp": 1743602730536,
     "user": {
      "displayName": "Esther Trujillo Martinez",
      "userId": "09367846152497830565"
     },
     "user_tz": -120
    },
    "id": "7jXotnwg0UDh",
    "outputId": "dfb87dba-9ac3-4662-83fe-9f19015ae714"
   },
   "outputs": [
    {
     "name": "stdout",
     "output_type": "stream",
     "text": [
      "Descargando datos para ACCIONA (ANA.MC)...\n"
     ]
    },
    {
     "name": "stderr",
     "output_type": "stream",
     "text": [
      "\r[*********************100%***********************]  1 of 1 completed\n"
     ]
    },
    {
     "name": "stdout",
     "output_type": "stream",
     "text": [
      "Descargando datos para ACCIONA ENERGÍA (ANE.MC)...\n"
     ]
    },
    {
     "name": "stderr",
     "output_type": "stream",
     "text": [
      "\r[*********************100%***********************]  1 of 1 completed\n"
     ]
    },
    {
     "name": "stdout",
     "output_type": "stream",
     "text": [
      "Descargando datos para ACERINOX (ACX.MC)...\n"
     ]
    },
    {
     "name": "stderr",
     "output_type": "stream",
     "text": [
      "\r[*********************100%***********************]  1 of 1 completed\n"
     ]
    },
    {
     "name": "stdout",
     "output_type": "stream",
     "text": [
      "Descargando datos para ACS (ACS.MC)...\n"
     ]
    },
    {
     "name": "stderr",
     "output_type": "stream",
     "text": [
      "\r[*********************100%***********************]  1 of 1 completed\n"
     ]
    },
    {
     "name": "stdout",
     "output_type": "stream",
     "text": [
      "Descargando datos para AENA (AENA.MC)...\n"
     ]
    },
    {
     "name": "stderr",
     "output_type": "stream",
     "text": [
      "[*********************100%***********************]  1 of 1 completed\n",
      "[*********************100%***********************]  1 of 1 completed"
     ]
    },
    {
     "name": "stdout",
     "output_type": "stream",
     "text": [
      "Descargando datos para AMADEUS (AMS.MC)...\n"
     ]
    },
    {
     "name": "stderr",
     "output_type": "stream",
     "text": [
      "\n"
     ]
    },
    {
     "name": "stdout",
     "output_type": "stream",
     "text": [
      "Descargando datos para ARCELORMITTAL (MTS.MC)...\n"
     ]
    },
    {
     "name": "stderr",
     "output_type": "stream",
     "text": [
      "\r[*********************100%***********************]  1 of 1 completed\n"
     ]
    },
    {
     "name": "stdout",
     "output_type": "stream",
     "text": [
      "Descargando datos para BANKINTER (BKT.MC)...\n"
     ]
    },
    {
     "name": "stderr",
     "output_type": "stream",
     "text": [
      "\r[*********************100%***********************]  1 of 1 completed\n"
     ]
    },
    {
     "name": "stdout",
     "output_type": "stream",
     "text": [
      "Descargando datos para BBVA (BBVA.MC)...\n"
     ]
    },
    {
     "name": "stderr",
     "output_type": "stream",
     "text": [
      "\r[*********************100%***********************]  1 of 1 completed\n"
     ]
    },
    {
     "name": "stdout",
     "output_type": "stream",
     "text": [
      "Descargando datos para CAIXABANK (CABK.MC)...\n"
     ]
    },
    {
     "name": "stderr",
     "output_type": "stream",
     "text": [
      "\r[*********************100%***********************]  1 of 1 completed\n"
     ]
    },
    {
     "name": "stdout",
     "output_type": "stream",
     "text": [
      "Descargando datos para CELLNEX TELECOM (CLNX.MC)...\n"
     ]
    },
    {
     "name": "stderr",
     "output_type": "stream",
     "text": [
      "\r[*********************100%***********************]  1 of 1 completed\n"
     ]
    },
    {
     "name": "stdout",
     "output_type": "stream",
     "text": [
      "Descargando datos para ENAGAS (ENG.MC)...\n"
     ]
    },
    {
     "name": "stderr",
     "output_type": "stream",
     "text": [
      "\r[*********************100%***********************]  1 of 1 completed\n"
     ]
    },
    {
     "name": "stdout",
     "output_type": "stream",
     "text": [
      "Descargando datos para ENDESA (ELE.MC)...\n"
     ]
    },
    {
     "name": "stderr",
     "output_type": "stream",
     "text": [
      "\r[*********************100%***********************]  1 of 1 completed\n"
     ]
    },
    {
     "name": "stdout",
     "output_type": "stream",
     "text": [
      "Descargando datos para FERROVIAL (FER.MC)...\n"
     ]
    },
    {
     "name": "stderr",
     "output_type": "stream",
     "text": [
      "\r[*********************100%***********************]  1 of 1 completed\n"
     ]
    },
    {
     "name": "stdout",
     "output_type": "stream",
     "text": [
      "Descargando datos para FLUIDRA (FDR.MC)...\n"
     ]
    },
    {
     "name": "stderr",
     "output_type": "stream",
     "text": [
      "\r[*********************100%***********************]  1 of 1 completed\n"
     ]
    },
    {
     "name": "stdout",
     "output_type": "stream",
     "text": [
      "Descargando datos para GRIFOLS (GRF.MC)...\n"
     ]
    },
    {
     "name": "stderr",
     "output_type": "stream",
     "text": [
      "\r[*********************100%***********************]  1 of 1 completed\n"
     ]
    },
    {
     "name": "stdout",
     "output_type": "stream",
     "text": [
      "Descargando datos para IAG (IAG.MC)...\n"
     ]
    },
    {
     "name": "stderr",
     "output_type": "stream",
     "text": [
      "\r[*********************100%***********************]  1 of 1 completed\n"
     ]
    },
    {
     "name": "stdout",
     "output_type": "stream",
     "text": [
      "Descargando datos para IBERDROLA (IBE.MC)...\n"
     ]
    },
    {
     "name": "stderr",
     "output_type": "stream",
     "text": [
      "\r[*********************100%***********************]  1 of 1 completed\n"
     ]
    },
    {
     "name": "stdout",
     "output_type": "stream",
     "text": [
      "Descargando datos para INDITEX (ITX.MC)...\n"
     ]
    },
    {
     "name": "stderr",
     "output_type": "stream",
     "text": [
      "\r[*********************100%***********************]  1 of 1 completed\n"
     ]
    },
    {
     "name": "stdout",
     "output_type": "stream",
     "text": [
      "Descargando datos para INDRA (IDR.MC)...\n"
     ]
    },
    {
     "name": "stderr",
     "output_type": "stream",
     "text": [
      "\r[*********************100%***********************]  1 of 1 completed\n"
     ]
    },
    {
     "name": "stdout",
     "output_type": "stream",
     "text": [
      "Descargando datos para INM. COLONIAL (COL.MC)...\n"
     ]
    },
    {
     "name": "stderr",
     "output_type": "stream",
     "text": [
      "\r[*********************100%***********************]  1 of 1 completed\n"
     ]
    },
    {
     "name": "stdout",
     "output_type": "stream",
     "text": [
      "Descargando datos para LABORATORIOS FARMA (ROVI) (ROVI.MC)...\n"
     ]
    },
    {
     "name": "stderr",
     "output_type": "stream",
     "text": [
      "[*********************100%***********************]  1 of 1 completed\n",
      "[*********************100%***********************]  1 of 1 completed"
     ]
    },
    {
     "name": "stdout",
     "output_type": "stream",
     "text": [
      "Descargando datos para LOGISTA (LOG.MC)...\n"
     ]
    },
    {
     "name": "stderr",
     "output_type": "stream",
     "text": [
      "\n"
     ]
    },
    {
     "name": "stdout",
     "output_type": "stream",
     "text": [
      "Descargando datos para MAPFRE (MAP.MC)...\n"
     ]
    },
    {
     "name": "stderr",
     "output_type": "stream",
     "text": [
      "[*********************100%***********************]  1 of 1 completed\n",
      "[*********************100%***********************]  1 of 1 completed"
     ]
    },
    {
     "name": "stdout",
     "output_type": "stream",
     "text": [
      "Descargando datos para MERLIN PROPERTIES (MRL.MC)...\n"
     ]
    },
    {
     "name": "stderr",
     "output_type": "stream",
     "text": [
      "\n"
     ]
    },
    {
     "name": "stdout",
     "output_type": "stream",
     "text": [
      "Descargando datos para NATURGY (NTGY.MC)...\n"
     ]
    },
    {
     "name": "stderr",
     "output_type": "stream",
     "text": [
      "[*********************100%***********************]  1 of 1 completed\n",
      "[*********************100%***********************]  1 of 1 completed"
     ]
    },
    {
     "name": "stdout",
     "output_type": "stream",
     "text": [
      "Descargando datos para PUIG (PUIG.MC)...\n"
     ]
    },
    {
     "name": "stderr",
     "output_type": "stream",
     "text": [
      "\n"
     ]
    },
    {
     "name": "stdout",
     "output_type": "stream",
     "text": [
      "Descargando datos para REE (RED.MC)...\n"
     ]
    },
    {
     "name": "stderr",
     "output_type": "stream",
     "text": [
      "\r[*********************100%***********************]  1 of 1 completed\n"
     ]
    },
    {
     "name": "stdout",
     "output_type": "stream",
     "text": [
      "Descargando datos para REPSOL (REP.MC)...\n"
     ]
    },
    {
     "name": "stderr",
     "output_type": "stream",
     "text": [
      "\r[*********************100%***********************]  1 of 1 completed\n"
     ]
    },
    {
     "name": "stdout",
     "output_type": "stream",
     "text": [
      "Descargando datos para SABADELL (SAB.MC)...\n"
     ]
    },
    {
     "name": "stderr",
     "output_type": "stream",
     "text": [
      "\r[*********************100%***********************]  1 of 1 completed\n"
     ]
    },
    {
     "name": "stdout",
     "output_type": "stream",
     "text": [
      "Descargando datos para SACYR (SCYR.MC)...\n"
     ]
    },
    {
     "name": "stderr",
     "output_type": "stream",
     "text": [
      "\r[*********************100%***********************]  1 of 1 completed\n"
     ]
    },
    {
     "name": "stdout",
     "output_type": "stream",
     "text": [
      "Descargando datos para SANTANDER (SAN.MC)...\n"
     ]
    },
    {
     "name": "stderr",
     "output_type": "stream",
     "text": [
      "\r[*********************100%***********************]  1 of 1 completed\n"
     ]
    },
    {
     "name": "stdout",
     "output_type": "stream",
     "text": [
      "Descargando datos para SOLARIA ENERGIA (SLR.MC)...\n"
     ]
    },
    {
     "name": "stderr",
     "output_type": "stream",
     "text": [
      "\r[*********************100%***********************]  1 of 1 completed\n"
     ]
    },
    {
     "name": "stdout",
     "output_type": "stream",
     "text": [
      "Descargando datos para TELEFONICA (TEF.MC)...\n"
     ]
    },
    {
     "name": "stderr",
     "output_type": "stream",
     "text": [
      "[*********************100%***********************]  1 of 1 completed\n",
      "[*********************100%***********************]  1 of 1 completed"
     ]
    },
    {
     "name": "stdout",
     "output_type": "stream",
     "text": [
      "Descargando datos para UNICAJA BANCO (UNI.MC)...\n"
     ]
    },
    {
     "name": "stderr",
     "output_type": "stream",
     "text": [
      "\n"
     ]
    },
    {
     "name": "stdout",
     "output_type": "stream",
     "text": [
      "Archivo CSV guardado: IBEX35_cotizaciones_20_anos.csv\n"
     ]
    }
   ],
   "source": [
    "import yfinance as yf\n",
    "import pandas as pd\n",
    "import time\n",
    "from datetime import datetime\n",
    "\n",
    "# Lista de empresas del IBEX 35 con sus símbolos en Yahoo Finance\n",
    "ibex_symbols = {\n",
    "    'ACCIONA': 'ANA.MC',\n",
    "    'ACCIONA ENERGÍA': 'ANE.MC',\n",
    "    'ACERINOX': 'ACX.MC',\n",
    "    'ACS': 'ACS.MC',\n",
    "    'AENA': 'AENA.MC',\n",
    "    'AMADEUS': 'AMS.MC',\n",
    "    'ARCELORMITTAL': 'MTS.MC',\n",
    "    'BANKINTER': 'BKT.MC',\n",
    "    'BBVA': 'BBVA.MC',\n",
    "    'CAIXABANK': 'CABK.MC',\n",
    "    'CELLNEX TELECOM': 'CLNX.MC',\n",
    "    'ENAGAS': 'ENG.MC',\n",
    "    'ENDESA': 'ELE.MC',\n",
    "    'FERROVIAL': 'FER.MC',\n",
    "    'FLUIDRA': 'FDR.MC',\n",
    "    'GRIFOLS': 'GRF.MC',\n",
    "    'IAG': 'IAG.MC',\n",
    "    'IBERDROLA': 'IBE.MC',\n",
    "    'INDITEX': 'ITX.MC',\n",
    "    'INDRA': 'IDR.MC',\n",
    "    'INM. COLONIAL': 'COL.MC',\n",
    "    'LABORATORIOS FARMA (ROVI)': 'ROVI.MC',\n",
    "    'LOGISTA': 'LOG.MC',\n",
    "    'MAPFRE': 'MAP.MC',\n",
    "    'MERLIN PROPERTIES': 'MRL.MC',\n",
    "    'NATURGY': 'NTGY.MC',\n",
    "    'PUIG': 'PUIG.MC',\n",
    "    'REE': 'RED.MC',\n",
    "    'REPSOL': 'REP.MC',\n",
    "    'SABADELL': 'SAB.MC',\n",
    "    'SACYR': 'SCYR.MC',\n",
    "    'SANTANDER': 'SAN.MC',\n",
    "    'SOLARIA ENERGIA': 'SLR.MC',\n",
    "    'TELEFONICA': 'TEF.MC',\n",
    "    'UNICAJA BANCO': 'UNI.MC'\n",
    "}\n",
    "\n",
    "# Fechas: últimos 20 años\n",
    "start_date = '2005-04-01'\n",
    "end_date = datetime.today().strftime('%Y-%m-%d')\n",
    "\n",
    "# Lista para almacenar los datos\n",
    "data_list = []\n",
    "\n",
    "for name, symbol in ibex_symbols.items():\n",
    "    print(f\"Descargando datos para {name} ({symbol})...\")\n",
    "    try:\n",
    "        df = yf.download(symbol, start=start_date, end=end_date)[['Close']]\n",
    "        df.reset_index(inplace=True)\n",
    "        df['Empresa'] = name\n",
    "        data_list.append(df)\n",
    "        time.sleep(1.5)\n",
    "    except Exception as e:\n",
    "        print(f\"Error al obtener datos para {name}: {e}\")\n",
    "\n",
    "# Unir todos los datos en un solo DataFrame\n",
    "df_final = pd.concat(data_list, ignore_index=True)\n",
    "\n",
    "# Renombrar columna de fecha\n",
    "if 'Date' in df_final.columns:\n",
    "    df_final.rename(columns={'Date': 'Fecha'}, inplace=True)\n",
    "\n",
    "# Reorganizar columnas\n",
    "df_final = df_final[['Fecha', 'Close', 'Empresa']]\n",
    "\n",
    "# Guardar en archivo CSV\n",
    "df_final.to_csv(\"IBEX35_cotizaciones_20_anos.csv\", index=False)\n",
    "print(\"Archivo CSV guardado: IBEX35_cotizaciones_20_anos.csv\")\n"
   ]
  },
  {
   "cell_type": "code",
   "execution_count": null,
   "metadata": {
    "colab": {
     "base_uri": "https://localhost:8080/"
    },
    "executionInfo": {
     "elapsed": 2933,
     "status": "ok",
     "timestamp": 1743602859668,
     "user": {
      "displayName": "Esther Trujillo Martinez",
      "userId": "09367846152497830565"
     },
     "user_tz": -120
    },
    "id": "lqkxs4fu1BRa",
    "outputId": "6c907485-5bc8-4d9c-ce3f-2a3688319d9a"
   },
   "outputs": [
    {
     "name": "stdout",
     "output_type": "stream",
     "text": [
      "Requirement already satisfied: openpyxl in /usr/local/lib/python3.11/dist-packages (3.1.5)\n",
      "Requirement already satisfied: et-xmlfile in /usr/local/lib/python3.11/dist-packages (from openpyxl) (2.0.0)\n"
     ]
    }
   ],
   "source": [
    "pip install openpyxl"
   ]
  }
 ],
 "metadata": {
  "colab": {
   "provenance": []
  },
  "kernelspec": {
   "display_name": "Python 3",
   "name": "python3"
  },
  "language_info": {
   "name": "python"
  }
 },
 "nbformat": 4,
 "nbformat_minor": 0
}
